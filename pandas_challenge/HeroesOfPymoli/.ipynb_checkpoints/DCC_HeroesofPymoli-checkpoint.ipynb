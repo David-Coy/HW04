{
 "cells": [
  {
   "cell_type": "markdown",
   "metadata": {},
   "source": [
    "# DCC Heroes of Pymoli\n",
    "* Start"
   ]
  },
  {
   "cell_type": "code",
   "execution_count": 138,
   "metadata": {},
   "outputs": [],
   "source": [
    "# Dependencies and Setup\n",
    "import pandas as pd\n",
    "import numpy as np\n",
    "import pdb\n",
    "\n",
    "file_to_load = \"Resources/purchase_data2.csv\"\n",
    "\n",
    "# Read Purchasing File and store into Pandas data frame\n",
    "purchase_data = pd.read_csv(file_to_load)"
   ]
  },
  {
   "cell_type": "code",
   "execution_count": 139,
   "metadata": {
    "scrolled": true
   },
   "outputs": [
    {
     "data": {
      "text/html": [
       "<div>\n",
       "<style scoped>\n",
       "    .dataframe tbody tr th:only-of-type {\n",
       "        vertical-align: middle;\n",
       "    }\n",
       "\n",
       "    .dataframe tbody tr th {\n",
       "        vertical-align: top;\n",
       "    }\n",
       "\n",
       "    .dataframe thead th {\n",
       "        text-align: right;\n",
       "    }\n",
       "</style>\n",
       "<table border=\"1\" class=\"dataframe\">\n",
       "  <thead>\n",
       "    <tr style=\"text-align: right;\">\n",
       "      <th></th>\n",
       "      <th>Purchase ID</th>\n",
       "      <th>SN</th>\n",
       "      <th>Age</th>\n",
       "      <th>Gender</th>\n",
       "      <th>Item ID</th>\n",
       "      <th>Item Name</th>\n",
       "      <th>Price</th>\n",
       "    </tr>\n",
       "  </thead>\n",
       "  <tbody>\n",
       "    <tr>\n",
       "      <th>0</th>\n",
       "      <td>0</td>\n",
       "      <td>Lisim78</td>\n",
       "      <td>20</td>\n",
       "      <td>Male</td>\n",
       "      <td>108</td>\n",
       "      <td>Extraction, Quickblade Of Trembling Hands</td>\n",
       "      <td>3.53</td>\n",
       "    </tr>\n",
       "    <tr>\n",
       "      <th>1</th>\n",
       "      <td>1</td>\n",
       "      <td>Lisovynya38</td>\n",
       "      <td>40</td>\n",
       "      <td>Male</td>\n",
       "      <td>143</td>\n",
       "      <td>Frenzied Scimitar</td>\n",
       "      <td>1.56</td>\n",
       "    </tr>\n",
       "    <tr>\n",
       "      <th>2</th>\n",
       "      <td>2</td>\n",
       "      <td>Ithergue48</td>\n",
       "      <td>24</td>\n",
       "      <td>Male</td>\n",
       "      <td>92</td>\n",
       "      <td>Final Critic</td>\n",
       "      <td>4.88</td>\n",
       "    </tr>\n",
       "    <tr>\n",
       "      <th>3</th>\n",
       "      <td>3</td>\n",
       "      <td>Chamassasya86</td>\n",
       "      <td>24</td>\n",
       "      <td>Male</td>\n",
       "      <td>100</td>\n",
       "      <td>Blindscythe</td>\n",
       "      <td>3.27</td>\n",
       "    </tr>\n",
       "    <tr>\n",
       "      <th>4</th>\n",
       "      <td>4</td>\n",
       "      <td>Iskosia90</td>\n",
       "      <td>23</td>\n",
       "      <td>Male</td>\n",
       "      <td>131</td>\n",
       "      <td>Fury</td>\n",
       "      <td>1.44</td>\n",
       "    </tr>\n",
       "  </tbody>\n",
       "</table>\n",
       "</div>"
      ],
      "text/plain": [
       "   Purchase ID             SN  Age Gender  Item ID  \\\n",
       "0            0        Lisim78   20   Male      108   \n",
       "1            1    Lisovynya38   40   Male      143   \n",
       "2            2     Ithergue48   24   Male       92   \n",
       "3            3  Chamassasya86   24   Male      100   \n",
       "4            4      Iskosia90   23   Male      131   \n",
       "\n",
       "                                   Item Name  Price  \n",
       "0  Extraction, Quickblade Of Trembling Hands   3.53  \n",
       "1                          Frenzied Scimitar   1.56  \n",
       "2                               Final Critic   4.88  \n",
       "3                                Blindscythe   3.27  \n",
       "4                                       Fury   1.44  "
      ]
     },
     "execution_count": 139,
     "metadata": {},
     "output_type": "execute_result"
    }
   ],
   "source": [
    "purchase_data.head(5)"
   ]
  },
  {
   "cell_type": "markdown",
   "metadata": {},
   "source": [
    "## Player Count\n",
    "* Display the total number of players\n"
   ]
  },
  {
   "cell_type": "code",
   "execution_count": 140,
   "metadata": {},
   "outputs": [
    {
     "data": {
      "text/html": [
       "<div>\n",
       "<style scoped>\n",
       "    .dataframe tbody tr th:only-of-type {\n",
       "        vertical-align: middle;\n",
       "    }\n",
       "\n",
       "    .dataframe tbody tr th {\n",
       "        vertical-align: top;\n",
       "    }\n",
       "\n",
       "    .dataframe thead th {\n",
       "        text-align: right;\n",
       "    }\n",
       "</style>\n",
       "<table border=\"1\" class=\"dataframe\">\n",
       "  <thead>\n",
       "    <tr style=\"text-align: right;\">\n",
       "      <th></th>\n",
       "      <th>Total Players</th>\n",
       "    </tr>\n",
       "  </thead>\n",
       "  <tbody>\n",
       "    <tr>\n",
       "      <th>0</th>\n",
       "      <td>576</td>\n",
       "    </tr>\n",
       "  </tbody>\n",
       "</table>\n",
       "</div>"
      ],
      "text/plain": [
       "   Total Players\n",
       "0            576"
      ]
     },
     "execution_count": 140,
     "metadata": {},
     "output_type": "execute_result"
    }
   ],
   "source": [
    "#series = purchase_data['SN'].value_counts()\n",
    "df = pd.DataFrame()\n",
    "df['Total Players'] =[len(purchase_data['SN'].unique())]\n",
    "df"
   ]
  },
  {
   "cell_type": "code",
   "execution_count": 141,
   "metadata": {},
   "outputs": [],
   "source": [
    "df = pd.DataFrame({\"Total Players\": [len(purchase_data['SN'].unique())]})"
   ]
  },
  {
   "cell_type": "code",
   "execution_count": 142,
   "metadata": {},
   "outputs": [],
   "source": [
    "num_players = len(purchase_data['SN'].unique())"
   ]
  },
  {
   "cell_type": "markdown",
   "metadata": {},
   "source": [
    "## Purchasing Analysis (Total)\n",
    "* Run basic calculations to obtain number of unique items, average price, etc.\n",
    "\n",
    "\n",
    "* Create a summary data frame to hold the results\n",
    "\n",
    "\n",
    "* Optional: give the displayed data cleaner formatting\n",
    "\n",
    "\n",
    "* Display the summary data frame"
   ]
  },
  {
   "cell_type": "code",
   "execution_count": 143,
   "metadata": {},
   "outputs": [
    {
     "data": {
      "text/html": [
       "<style  type=\"text/css\" >\n",
       "</style><table id=\"T_9f369742_0743_11eb_a111_acde48001122\" ><thead>    <tr>        <th class=\"blank level0\" ></th>        <th class=\"col_heading level0 col0\" >Number of Unique Items</th>        <th class=\"col_heading level0 col1\" >Average Price</th>        <th class=\"col_heading level0 col2\" >Number of Purchases</th>        <th class=\"col_heading level0 col3\" >Total Revenue</th>    </tr></thead><tbody>\n",
       "                <tr>\n",
       "                        <th id=\"T_9f369742_0743_11eb_a111_acde48001122level0_row0\" class=\"row_heading level0 row0\" >0</th>\n",
       "                        <td id=\"T_9f369742_0743_11eb_a111_acde48001122row0_col0\" class=\"data row0 col0\" >179</td>\n",
       "                        <td id=\"T_9f369742_0743_11eb_a111_acde48001122row0_col1\" class=\"data row0 col1\" >$3.05</td>\n",
       "                        <td id=\"T_9f369742_0743_11eb_a111_acde48001122row0_col2\" class=\"data row0 col2\" >780</td>\n",
       "                        <td id=\"T_9f369742_0743_11eb_a111_acde48001122row0_col3\" class=\"data row0 col3\" >$2,379.77</td>\n",
       "            </tr>\n",
       "    </tbody></table>"
      ],
      "text/plain": [
       "<pandas.io.formats.style.Styler at 0x7fe16c418a60>"
      ]
     },
     "execution_count": 143,
     "metadata": {},
     "output_type": "execute_result"
    }
   ],
   "source": [
    "unique_items = len(purchase_data[\"Item Name\"].unique())\n",
    "average_price = purchase_data['Price'].mean()\n",
    "number_purchases = len(purchase_data['Price'])\n",
    "total_revenue = purchase_data['Price'].sum()\n",
    "\n",
    "columns = ['Number of Unique Items','Average Price','Number of Purchases','Total Revenue']\n",
    "df = pd.DataFrame([[unique_items,average_price,number_purchases,total_revenue]], columns=columns)\n",
    "\n",
    "format_dict = {'Average Price':'${0:,.2f}', 'Total Revenue':'${0:,.2f}'}\n",
    "df = df.style.format(format_dict)\n",
    "df"
   ]
  },
  {
   "cell_type": "markdown",
   "metadata": {},
   "source": [
    "## Gender Demographics\n",
    "* Percentage and Count of Male Players\n",
    "\n",
    "\n",
    "* Percentage and Count of Female Players\n",
    "\n",
    "\n",
    "* Percentage and Count of Other / Non-Disclosed\n",
    "\n",
    "\n"
   ]
  },
  {
   "cell_type": "code",
   "execution_count": 144,
   "metadata": {
    "scrolled": false
   },
   "outputs": [],
   "source": [
    "total_players = len(purchase_data['Gender'])\n",
    "total_male = purchase_data['Gender'].value_counts()['Male']\n",
    "total_fema = purchase_data['Gender'].value_counts()['Female']\n",
    "total_other = purchase_data['Gender'].value_counts()['Other / Non-Disclosed']\n",
    "\n",
    "columns = ['Total Count','Percentage of Players']\n",
    "data = {'Total Count':[total_male,total_fema, total_other],\n",
    "        'Gender':['Male','Female','Other / Non-Disclosed']}\n",
    "df = pd.DataFrame.from_dict(data)\n",
    "\n",
    "df['Percentage of Players'] = df.apply(lambda x: x['Total Count']/total_players*100, axis =1)\n",
    "df = df.set_index('Gender')\n",
    "format_dict = {'Total Count':'{0:.0f}', 'Percentage of Players':'{:.2f}%'}# 0 is the width of the number\n",
    "df.style.format(format_dict);"
   ]
  },
  {
   "cell_type": "code",
   "execution_count": 145,
   "metadata": {
    "scrolled": false
   },
   "outputs": [],
   "source": [
    "purchase_data.groupby('Gender')['SN'].value_counts();#This shows all the repeat occurances for each unique SN"
   ]
  },
  {
   "cell_type": "code",
   "execution_count": 146,
   "metadata": {},
   "outputs": [
    {
     "data": {
      "text/html": [
       "<style  type=\"text/css\" >\n",
       "</style><table id=\"T_a0083928_0743_11eb_a111_acde48001122\" ><thead>    <tr>        <th class=\"blank level0\" ></th>        <th class=\"col_heading level0 col0\" >Total Count</th>        <th class=\"col_heading level0 col1\" >Percentage of Players</th>    </tr>    <tr>        <th class=\"index_name level0\" >Gender</th>        <th class=\"blank\" ></th>        <th class=\"blank\" ></th>    </tr></thead><tbody>\n",
       "                <tr>\n",
       "                        <th id=\"T_a0083928_0743_11eb_a111_acde48001122level0_row0\" class=\"row_heading level0 row0\" >Female</th>\n",
       "                        <td id=\"T_a0083928_0743_11eb_a111_acde48001122row0_col0\" class=\"data row0 col0\" >81</td>\n",
       "                        <td id=\"T_a0083928_0743_11eb_a111_acde48001122row0_col1\" class=\"data row0 col1\" >14.06%</td>\n",
       "            </tr>\n",
       "            <tr>\n",
       "                        <th id=\"T_a0083928_0743_11eb_a111_acde48001122level0_row1\" class=\"row_heading level0 row1\" >Male</th>\n",
       "                        <td id=\"T_a0083928_0743_11eb_a111_acde48001122row1_col0\" class=\"data row1 col0\" >484</td>\n",
       "                        <td id=\"T_a0083928_0743_11eb_a111_acde48001122row1_col1\" class=\"data row1 col1\" >84.03%</td>\n",
       "            </tr>\n",
       "            <tr>\n",
       "                        <th id=\"T_a0083928_0743_11eb_a111_acde48001122level0_row2\" class=\"row_heading level0 row2\" >Other / Non-Disclosed</th>\n",
       "                        <td id=\"T_a0083928_0743_11eb_a111_acde48001122row2_col0\" class=\"data row2 col0\" >11</td>\n",
       "                        <td id=\"T_a0083928_0743_11eb_a111_acde48001122row2_col1\" class=\"data row2 col1\" >1.91%</td>\n",
       "            </tr>\n",
       "    </tbody></table>"
      ],
      "text/plain": [
       "<pandas.io.formats.style.Styler at 0x7fe16bb7ba00>"
      ]
     },
     "execution_count": 146,
     "metadata": {},
     "output_type": "execute_result"
    }
   ],
   "source": [
    "df_SN_Count = pd.DataFrame(purchase_data.groupby('Gender')['SN'].nunique())  #Nunique coutns the number of unique not wheras unique would find all the names of the unique\n",
    "df_SN_Count = df_SN_Count.rename(columns={'SN':'Total Count'})\n",
    "df_SN_Count['Percentage of Players'] = df_SN_Count.apply(lambda x: x['Total Count']/num_players*100, axis =1)\n",
    "format_dict = {'Total Count':'{0:.0f}', 'Percentage of Players':'{:.2f}%'}# 0 is the width of the number\n",
    "df_SN_Count.style.format(format_dict)"
   ]
  },
  {
   "cell_type": "markdown",
   "metadata": {},
   "source": [
    "## Purchasing Analysis (Gender)\n",
    "* Run basic calculations to obtain purchase count, avg. purchase price, avg. purchase total per person etc. by gender\n",
    "\n",
    "\n",
    "\n",
    "\n",
    "* Create a summary data frame to hold the results\n",
    "\n",
    "\n",
    "* Optional: give the displayed data cleaner formatting\n",
    "\n",
    "\n",
    "* Display the summary data frame"
   ]
  },
  {
   "cell_type": "code",
   "execution_count": 147,
   "metadata": {},
   "outputs": [],
   "source": [
    "#df = purchase_data.set_index('Gender')\n",
    "#purchase_data.loc[(purchase_data['Gender'] == 'Female') & (purchase_data['Price'] >4)]\n",
    "df = pd.DataFrame()\n",
    "columns = ['Purchase Count', 'Average Purchase Price', 'Total Purchase Value', 'Avg Total Purchase Price per Person']\n",
    "\n",
    "data = {'Gender':['Female','Male',\"Other / Non-Disclosed\"],\n",
    "       'Purchase Count':[len(purchase_data[purchase_data['Gender'] == 'Female']),\n",
    "                         len(purchase_data[purchase_data['Gender'] == 'Male']),\n",
    "                         len(purchase_data[purchase_data['Gender'] == 'Other / Non-Disclosed'])],\n",
    "       'Average Purchase Price': [purchase_data[purchase_data['Gender'] == 'Female']['Price'].mean(), purchase_data[purchase_data['Gender'] == 'Male']['Price'].mean(), purchase_data[purchase_data['Gender'] == 'Other / Non-Disclosed']['Price'].mean()],                \n",
    "       'Total Purchase Value' : [purchase_data.loc[purchase_data['Gender'] == 'Female']['Price'].sum(),\n",
    "                                 purchase_data.loc[purchase_data['Gender'] == 'Male']['Price'].sum(),\n",
    "                                 purchase_data.loc[purchase_data['Gender'] == 'Other / Non-Disclosed']['Price'].sum()],\n",
    "       'Avg Total Purchase Price per Person':[purchase_data.loc[purchase_data['Gender'] == 'Female'].groupby(['SN']).sum()['Price'].mean(),\n",
    "                                              purchase_data.loc[purchase_data['Gender'] == 'Male'].groupby(['SN']).sum()['Price'].mean(),\n",
    "                                              purchase_data.loc[purchase_data['Gender'] == 'Other / Non-Disclosed'].groupby(['SN']).sum()['Price'].mean()]}\n",
    "df = pd.DataFrame.from_dict(data)\n",
    "format_dict = {'Average Purchase Price':'${0:,.2f}',\n",
    "               'Total Purchase Value':'${0:,.2f}',\n",
    "               'Avg Total Purchase Price per Person':'${0:,.2f}'}# 0 is the width of the number\n",
    "df = df.style.format(format_dict)"
   ]
  },
  {
   "cell_type": "markdown",
   "metadata": {},
   "source": [
    "## Age Demographics\n",
    "* Establish bins for ages\n",
    "\n",
    "\n",
    "* Categorize the existing players using the age bins. Hint: use pd.cut()\n",
    "\n",
    "\n",
    "* Calculate the numbers and percentages by age group\n",
    "\n",
    "\n",
    "* Create a summary data frame to hold the results\n",
    "\n",
    "\n",
    "* Optional: round the percentage column to two decimal points\n",
    "\n",
    "\n",
    "* Display Age Demographics Table"
   ]
  },
  {
   "cell_type": "code",
   "execution_count": 148,
   "metadata": {
    "scrolled": true
   },
   "outputs": [],
   "source": [
    "bin_names = [\"<10\", \"10-14\", \"15-19\", \"20-24\", \"25-29\", \"30-34\", \"35-39\", \"40+\"]\n",
    "age_bins = [0, 9.99, 14.99, 19.99, 24.90, 29.99, 34.99, 39.99, 99999]\n",
    "\n",
    "purchase_data_copy = purchase_data\n",
    "purchase_data_copy[\"Bin Range\"] = pd.cut(purchase_data_copy[\"Age\"], age_bins, labels=bin_names)\n",
    "purchase_data_copy = purchase_data_copy.drop_duplicates(subset = 'SN')"
   ]
  },
  {
   "cell_type": "code",
   "execution_count": 149,
   "metadata": {},
   "outputs": [],
   "source": [
    "purchase_data_binned_age = purchase_data_copy.groupby(['Bin Range']).count()\n",
    "purchase_data_binned_age;"
   ]
  },
  {
   "cell_type": "code",
   "execution_count": 150,
   "metadata": {},
   "outputs": [
    {
     "data": {
      "text/html": [
       "<style  type=\"text/css\" >\n",
       "</style><table id=\"T_a1d111ee_0743_11eb_a111_acde48001122\" ><thead>    <tr>        <th class=\"blank level0\" ></th>        <th class=\"col_heading level0 col0\" >Total Count</th>        <th class=\"col_heading level0 col1\" >Percentage of Players</th>    </tr>    <tr>        <th class=\"index_name level0\" >Bin Range</th>        <th class=\"blank\" ></th>        <th class=\"blank\" ></th>    </tr></thead><tbody>\n",
       "                <tr>\n",
       "                        <th id=\"T_a1d111ee_0743_11eb_a111_acde48001122level0_row0\" class=\"row_heading level0 row0\" ><10</th>\n",
       "                        <td id=\"T_a1d111ee_0743_11eb_a111_acde48001122row0_col0\" class=\"data row0 col0\" >17</td>\n",
       "                        <td id=\"T_a1d111ee_0743_11eb_a111_acde48001122row0_col1\" class=\"data row0 col1\" >$2.95</td>\n",
       "            </tr>\n",
       "            <tr>\n",
       "                        <th id=\"T_a1d111ee_0743_11eb_a111_acde48001122level0_row1\" class=\"row_heading level0 row1\" >10-14</th>\n",
       "                        <td id=\"T_a1d111ee_0743_11eb_a111_acde48001122row1_col0\" class=\"data row1 col0\" >22</td>\n",
       "                        <td id=\"T_a1d111ee_0743_11eb_a111_acde48001122row1_col1\" class=\"data row1 col1\" >$3.82</td>\n",
       "            </tr>\n",
       "            <tr>\n",
       "                        <th id=\"T_a1d111ee_0743_11eb_a111_acde48001122level0_row2\" class=\"row_heading level0 row2\" >15-19</th>\n",
       "                        <td id=\"T_a1d111ee_0743_11eb_a111_acde48001122row2_col0\" class=\"data row2 col0\" >107</td>\n",
       "                        <td id=\"T_a1d111ee_0743_11eb_a111_acde48001122row2_col1\" class=\"data row2 col1\" >$18.58</td>\n",
       "            </tr>\n",
       "            <tr>\n",
       "                        <th id=\"T_a1d111ee_0743_11eb_a111_acde48001122level0_row3\" class=\"row_heading level0 row3\" >20-24</th>\n",
       "                        <td id=\"T_a1d111ee_0743_11eb_a111_acde48001122row3_col0\" class=\"data row3 col0\" >258</td>\n",
       "                        <td id=\"T_a1d111ee_0743_11eb_a111_acde48001122row3_col1\" class=\"data row3 col1\" >$44.79</td>\n",
       "            </tr>\n",
       "            <tr>\n",
       "                        <th id=\"T_a1d111ee_0743_11eb_a111_acde48001122level0_row4\" class=\"row_heading level0 row4\" >25-29</th>\n",
       "                        <td id=\"T_a1d111ee_0743_11eb_a111_acde48001122row4_col0\" class=\"data row4 col0\" >77</td>\n",
       "                        <td id=\"T_a1d111ee_0743_11eb_a111_acde48001122row4_col1\" class=\"data row4 col1\" >$13.37</td>\n",
       "            </tr>\n",
       "            <tr>\n",
       "                        <th id=\"T_a1d111ee_0743_11eb_a111_acde48001122level0_row5\" class=\"row_heading level0 row5\" >30-34</th>\n",
       "                        <td id=\"T_a1d111ee_0743_11eb_a111_acde48001122row5_col0\" class=\"data row5 col0\" >52</td>\n",
       "                        <td id=\"T_a1d111ee_0743_11eb_a111_acde48001122row5_col1\" class=\"data row5 col1\" >$9.03</td>\n",
       "            </tr>\n",
       "            <tr>\n",
       "                        <th id=\"T_a1d111ee_0743_11eb_a111_acde48001122level0_row6\" class=\"row_heading level0 row6\" >35-39</th>\n",
       "                        <td id=\"T_a1d111ee_0743_11eb_a111_acde48001122row6_col0\" class=\"data row6 col0\" >31</td>\n",
       "                        <td id=\"T_a1d111ee_0743_11eb_a111_acde48001122row6_col1\" class=\"data row6 col1\" >$5.38</td>\n",
       "            </tr>\n",
       "            <tr>\n",
       "                        <th id=\"T_a1d111ee_0743_11eb_a111_acde48001122level0_row7\" class=\"row_heading level0 row7\" >40+</th>\n",
       "                        <td id=\"T_a1d111ee_0743_11eb_a111_acde48001122row7_col0\" class=\"data row7 col0\" >12</td>\n",
       "                        <td id=\"T_a1d111ee_0743_11eb_a111_acde48001122row7_col1\" class=\"data row7 col1\" >$2.08</td>\n",
       "            </tr>\n",
       "    </tbody></table>"
      ],
      "text/plain": [
       "<pandas.io.formats.style.Styler at 0x7fe16cccafd0>"
      ]
     },
     "execution_count": 150,
     "metadata": {},
     "output_type": "execute_result"
    }
   ],
   "source": [
    "total_unique_SN = len(purchase_data['SN'].unique()) #Total number of unique screen names\n",
    "\n",
    "purchase_data_binned_age['Total Count'] = purchase_data_binned_age.apply(lambda x: x['SN'], axis=1)\n",
    "purchase_data_binned_age['Percentage of Players'] = purchase_data_binned_age.apply(lambda x: x['Total Count']/total_unique_SN*100, axis=1)\n",
    "purchase_data_binned_age\n",
    "df_age_demo = purchase_data_binned_age.loc[:, ['Total Count','Percentage of Players']]\n",
    "df_age_demo\n",
    "\n",
    "format_dict = {'Total Count':'{0:,.0f}',\n",
    "               'Percentage of Players':'${0:,.2f}'}\n",
    "\n",
    "df_age_demo = df_age_demo.style.format(format_dict)\n",
    "df_age_demo"
   ]
  },
  {
   "cell_type": "markdown",
   "metadata": {},
   "source": [
    "## Purchasing Analysis (Age)\n",
    "* Bin the purchase_data data frame by age\n",
    "\n",
    "\n",
    "* Run basic calculations to obtain purchase count, avg. purchase price, avg. purchase total per person etc. in the table below\n",
    "\n",
    "\n",
    "* Create a summary data frame to hold the results\n",
    "\n",
    "\n",
    "* Optional: give the displayed data cleaner formatting\n",
    "\n",
    "\n",
    "* Display the summary data frame"
   ]
  },
  {
   "cell_type": "code",
   "execution_count": 151,
   "metadata": {
    "scrolled": true
   },
   "outputs": [],
   "source": [
    "#d.DataFrame(purchase_data.groupby('Bin Range')['SN'].nunique())\n",
    "df_purch_anal_age = pd.DataFrame(purchase_data.groupby('Bin Range').nunique())\n",
    "df_purch_anal_age = df_purch_anal_age.rename(columns = {'Purchase ID':'Purchase Count','SN':'Purchase Count Unique_SN'})\n",
    "df_purch_anal_age = df_purch_anal_age.loc[:,['Purchase Count','Purchase Count Unique_SN']]\n",
    "df_purch_anal_age.loc[:,('Bin Range')] = df_purch_anal_age.index\n",
    "df_purch_anal_age;"
   ]
  },
  {
   "cell_type": "code",
   "execution_count": 152,
   "metadata": {
    "scrolled": false
   },
   "outputs": [],
   "source": [
    "total_unique_SN = len(purchase_data['SN']) #Total number of screen names\n",
    "purchase_data[\"Bin Range\"] = pd.cut(purchase_data[\"Age\"], age_bins, labels=bin_names)\n",
    "\n",
    "purchase_data_bin = purchase_data.groupby(['Bin Range']).count()\n",
    "purchase_data_bin.loc[:,('Bin Range')] = purchase_data_bin.index\n",
    "\n",
    "purchase_data_bin;"
   ]
  },
  {
   "cell_type": "code",
   "execution_count": 153,
   "metadata": {
    "scrolled": true
   },
   "outputs": [],
   "source": [
    "'''\n",
    "df_final = purchase_data_binned_age.loc[:,['Total Count']]\n",
    "df_final.loc[:,('Bin Range')] = df_final.index\n",
    "df_final_copy = df_final\n",
    "\n",
    "\n",
    "unique_SN_per_Bin = purchase_data_copy[['Bin Range','SN']].drop_duplicates(subset = 'SN')\n",
    "unique_SN_per_Bin = unique_SN_per_Bin.groupby('Bin Range').count()\n",
    "unique_SN_per_Bin;\n",
    "unique_SN_per_Bin = unique_SN_per_Bin.rename(columns={'SN':'Unique Persons'})\n",
    "unique_SN_per_Bin;\n",
    "\n",
    "df_final_copy = pd.merge(df_final_copy, unique_SN_per_Bin, how='outer',left_index=True, right_index=True)\n",
    "'''\n",
    "\n",
    "df_purch_anal_age['Average Purchase Price'] = purchase_data_bin['Bin Range'].apply(lambda x: purchase_data.loc[(purchase_data['Bin Range']==x)]['Price'].mean())\n",
    "df_purch_anal_age['Average Purchase Price'] = df_purch_anal_age['Average Purchase Price'].astype('float64')\n"
   ]
  },
  {
   "cell_type": "code",
   "execution_count": 154,
   "metadata": {},
   "outputs": [],
   "source": [
    "df_purch_anal_age['Total Purchase Value'] = df_purch_anal_age['Purchase Count']*df_purch_anal_age['Average Purchase Price']\n",
    "df_purch_anal_age['Avg Total Purchase per Person'] = df_purch_anal_age['Total Purchase Value']/df_purch_anal_age['Purchase Count Unique_SN']"
   ]
  },
  {
   "cell_type": "code",
   "execution_count": 155,
   "metadata": {},
   "outputs": [
    {
     "data": {
      "text/html": [
       "<style  type=\"text/css\" >\n",
       "</style><table id=\"T_a3e4b652_0743_11eb_a111_acde48001122\" ><thead>    <tr>        <th class=\"blank level0\" ></th>        <th class=\"col_heading level0 col0\" >Purchase Count</th>        <th class=\"col_heading level0 col1\" >Purchase Count Unique_SN</th>        <th class=\"col_heading level0 col2\" >Average Purchase Price</th>        <th class=\"col_heading level0 col3\" >Total Purchase Value</th>        <th class=\"col_heading level0 col4\" >Avg Total Purchase per Person</th>    </tr>    <tr>        <th class=\"index_name level0\" >Bin Range</th>        <th class=\"blank\" ></th>        <th class=\"blank\" ></th>        <th class=\"blank\" ></th>        <th class=\"blank\" ></th>        <th class=\"blank\" ></th>    </tr></thead><tbody>\n",
       "                <tr>\n",
       "                        <th id=\"T_a3e4b652_0743_11eb_a111_acde48001122level0_row0\" class=\"row_heading level0 row0\" ><10</th>\n",
       "                        <td id=\"T_a3e4b652_0743_11eb_a111_acde48001122row0_col0\" class=\"data row0 col0\" >23</td>\n",
       "                        <td id=\"T_a3e4b652_0743_11eb_a111_acde48001122row0_col1\" class=\"data row0 col1\" >17</td>\n",
       "                        <td id=\"T_a3e4b652_0743_11eb_a111_acde48001122row0_col2\" class=\"data row0 col2\" >$3.35</td>\n",
       "                        <td id=\"T_a3e4b652_0743_11eb_a111_acde48001122row0_col3\" class=\"data row0 col3\" >$77.13</td>\n",
       "                        <td id=\"T_a3e4b652_0743_11eb_a111_acde48001122row0_col4\" class=\"data row0 col4\" >$4.54</td>\n",
       "            </tr>\n",
       "            <tr>\n",
       "                        <th id=\"T_a3e4b652_0743_11eb_a111_acde48001122level0_row1\" class=\"row_heading level0 row1\" >10-14</th>\n",
       "                        <td id=\"T_a3e4b652_0743_11eb_a111_acde48001122row1_col0\" class=\"data row1 col0\" >28</td>\n",
       "                        <td id=\"T_a3e4b652_0743_11eb_a111_acde48001122row1_col1\" class=\"data row1 col1\" >22</td>\n",
       "                        <td id=\"T_a3e4b652_0743_11eb_a111_acde48001122row1_col2\" class=\"data row1 col2\" >$2.96</td>\n",
       "                        <td id=\"T_a3e4b652_0743_11eb_a111_acde48001122row1_col3\" class=\"data row1 col3\" >$82.78</td>\n",
       "                        <td id=\"T_a3e4b652_0743_11eb_a111_acde48001122row1_col4\" class=\"data row1 col4\" >$3.76</td>\n",
       "            </tr>\n",
       "            <tr>\n",
       "                        <th id=\"T_a3e4b652_0743_11eb_a111_acde48001122level0_row2\" class=\"row_heading level0 row2\" >15-19</th>\n",
       "                        <td id=\"T_a3e4b652_0743_11eb_a111_acde48001122row2_col0\" class=\"data row2 col0\" >136</td>\n",
       "                        <td id=\"T_a3e4b652_0743_11eb_a111_acde48001122row2_col1\" class=\"data row2 col1\" >107</td>\n",
       "                        <td id=\"T_a3e4b652_0743_11eb_a111_acde48001122row2_col2\" class=\"data row2 col2\" >$3.04</td>\n",
       "                        <td id=\"T_a3e4b652_0743_11eb_a111_acde48001122row2_col3\" class=\"data row2 col3\" >$412.89</td>\n",
       "                        <td id=\"T_a3e4b652_0743_11eb_a111_acde48001122row2_col4\" class=\"data row2 col4\" >$3.86</td>\n",
       "            </tr>\n",
       "            <tr>\n",
       "                        <th id=\"T_a3e4b652_0743_11eb_a111_acde48001122level0_row3\" class=\"row_heading level0 row3\" >20-24</th>\n",
       "                        <td id=\"T_a3e4b652_0743_11eb_a111_acde48001122row3_col0\" class=\"data row3 col0\" >365</td>\n",
       "                        <td id=\"T_a3e4b652_0743_11eb_a111_acde48001122row3_col1\" class=\"data row3 col1\" >258</td>\n",
       "                        <td id=\"T_a3e4b652_0743_11eb_a111_acde48001122row3_col2\" class=\"data row3 col2\" >$3.05</td>\n",
       "                        <td id=\"T_a3e4b652_0743_11eb_a111_acde48001122row3_col3\" class=\"data row3 col3\" >$1,114.06</td>\n",
       "                        <td id=\"T_a3e4b652_0743_11eb_a111_acde48001122row3_col4\" class=\"data row3 col4\" >$4.32</td>\n",
       "            </tr>\n",
       "            <tr>\n",
       "                        <th id=\"T_a3e4b652_0743_11eb_a111_acde48001122level0_row4\" class=\"row_heading level0 row4\" >25-29</th>\n",
       "                        <td id=\"T_a3e4b652_0743_11eb_a111_acde48001122row4_col0\" class=\"data row4 col0\" >101</td>\n",
       "                        <td id=\"T_a3e4b652_0743_11eb_a111_acde48001122row4_col1\" class=\"data row4 col1\" >77</td>\n",
       "                        <td id=\"T_a3e4b652_0743_11eb_a111_acde48001122row4_col2\" class=\"data row4 col2\" >$2.90</td>\n",
       "                        <td id=\"T_a3e4b652_0743_11eb_a111_acde48001122row4_col3\" class=\"data row4 col3\" >$293.00</td>\n",
       "                        <td id=\"T_a3e4b652_0743_11eb_a111_acde48001122row4_col4\" class=\"data row4 col4\" >$3.81</td>\n",
       "            </tr>\n",
       "            <tr>\n",
       "                        <th id=\"T_a3e4b652_0743_11eb_a111_acde48001122level0_row5\" class=\"row_heading level0 row5\" >30-34</th>\n",
       "                        <td id=\"T_a3e4b652_0743_11eb_a111_acde48001122row5_col0\" class=\"data row5 col0\" >73</td>\n",
       "                        <td id=\"T_a3e4b652_0743_11eb_a111_acde48001122row5_col1\" class=\"data row5 col1\" >52</td>\n",
       "                        <td id=\"T_a3e4b652_0743_11eb_a111_acde48001122row5_col2\" class=\"data row5 col2\" >$2.93</td>\n",
       "                        <td id=\"T_a3e4b652_0743_11eb_a111_acde48001122row5_col3\" class=\"data row5 col3\" >$214.00</td>\n",
       "                        <td id=\"T_a3e4b652_0743_11eb_a111_acde48001122row5_col4\" class=\"data row5 col4\" >$4.12</td>\n",
       "            </tr>\n",
       "            <tr>\n",
       "                        <th id=\"T_a3e4b652_0743_11eb_a111_acde48001122level0_row6\" class=\"row_heading level0 row6\" >35-39</th>\n",
       "                        <td id=\"T_a3e4b652_0743_11eb_a111_acde48001122row6_col0\" class=\"data row6 col0\" >41</td>\n",
       "                        <td id=\"T_a3e4b652_0743_11eb_a111_acde48001122row6_col1\" class=\"data row6 col1\" >31</td>\n",
       "                        <td id=\"T_a3e4b652_0743_11eb_a111_acde48001122row6_col2\" class=\"data row6 col2\" >$3.60</td>\n",
       "                        <td id=\"T_a3e4b652_0743_11eb_a111_acde48001122row6_col3\" class=\"data row6 col3\" >$147.67</td>\n",
       "                        <td id=\"T_a3e4b652_0743_11eb_a111_acde48001122row6_col4\" class=\"data row6 col4\" >$4.76</td>\n",
       "            </tr>\n",
       "            <tr>\n",
       "                        <th id=\"T_a3e4b652_0743_11eb_a111_acde48001122level0_row7\" class=\"row_heading level0 row7\" >40+</th>\n",
       "                        <td id=\"T_a3e4b652_0743_11eb_a111_acde48001122row7_col0\" class=\"data row7 col0\" >13</td>\n",
       "                        <td id=\"T_a3e4b652_0743_11eb_a111_acde48001122row7_col1\" class=\"data row7 col1\" >12</td>\n",
       "                        <td id=\"T_a3e4b652_0743_11eb_a111_acde48001122row7_col2\" class=\"data row7 col2\" >$2.94</td>\n",
       "                        <td id=\"T_a3e4b652_0743_11eb_a111_acde48001122row7_col3\" class=\"data row7 col3\" >$38.24</td>\n",
       "                        <td id=\"T_a3e4b652_0743_11eb_a111_acde48001122row7_col4\" class=\"data row7 col4\" >$3.19</td>\n",
       "            </tr>\n",
       "    </tbody></table>"
      ],
      "text/plain": [
       "<pandas.io.formats.style.Styler at 0x7fe16c5907c0>"
      ]
     },
     "execution_count": 155,
     "metadata": {},
     "output_type": "execute_result"
    }
   ],
   "source": [
    "df_purch_anal_age = df_purch_anal_age.loc[:,['Purchase Count',\n",
    "                               'Purchase Count Unique_SN',\n",
    "                               'Average Purchase Price',\n",
    "                               'Total Purchase Value',\n",
    "                               'Avg Total Purchase per Person']]\n",
    "\n",
    "format_dict = {'Purchase Count':'{0:,.0f}',\n",
    "               'Average Purchase Price':'${0:,.2f}',\n",
    "               'Average Purchase Price':'${0:,.2f}',\n",
    "               'Total Purchase Value':'${0:,.2f}',\n",
    "               'Avg Total Purchase per Person':'${0:,.2f}'}\n",
    "df_purch_anal_age.style.format(format_dict)"
   ]
  },
  {
   "cell_type": "markdown",
   "metadata": {},
   "source": [
    "## Top Spenders\n",
    "* Run basic calculations to obtain the results in the table below\n",
    "\n",
    "\n",
    "* Create a summary data frame to hold the results\n",
    "\n",
    "\n",
    "* Sort the total purchase value column in descending order\n",
    "\n",
    "\n",
    "* Optional: give the displayed data cleaner formatting\n",
    "\n",
    "\n",
    "* Display a preview of the summary data frame\n"
   ]
  },
  {
   "cell_type": "code",
   "execution_count": 180,
   "metadata": {},
   "outputs": [
    {
     "data": {
      "text/html": [
       "<div>\n",
       "<style scoped>\n",
       "    .dataframe tbody tr th:only-of-type {\n",
       "        vertical-align: middle;\n",
       "    }\n",
       "\n",
       "    .dataframe tbody tr th {\n",
       "        vertical-align: top;\n",
       "    }\n",
       "\n",
       "    .dataframe thead th {\n",
       "        text-align: right;\n",
       "    }\n",
       "</style>\n",
       "<table border=\"1\" class=\"dataframe\">\n",
       "  <thead>\n",
       "    <tr style=\"text-align: right;\">\n",
       "      <th></th>\n",
       "      <th>Purchase Count</th>\n",
       "      <th>Average Purchase Price</th>\n",
       "      <th>Total Purchase Value</th>\n",
       "    </tr>\n",
       "  </thead>\n",
       "  <tbody>\n",
       "    <tr>\n",
       "      <th>Lisosia93</th>\n",
       "      <td>5</td>\n",
       "      <td>3.792000</td>\n",
       "      <td>18.96</td>\n",
       "    </tr>\n",
       "    <tr>\n",
       "      <th>Idastidru52</th>\n",
       "      <td>4</td>\n",
       "      <td>3.862500</td>\n",
       "      <td>15.45</td>\n",
       "    </tr>\n",
       "    <tr>\n",
       "      <th>Chamjask73</th>\n",
       "      <td>3</td>\n",
       "      <td>4.610000</td>\n",
       "      <td>13.83</td>\n",
       "    </tr>\n",
       "    <tr>\n",
       "      <th>Iral74</th>\n",
       "      <td>4</td>\n",
       "      <td>3.405000</td>\n",
       "      <td>13.62</td>\n",
       "    </tr>\n",
       "    <tr>\n",
       "      <th>Iskadarya95</th>\n",
       "      <td>3</td>\n",
       "      <td>4.366667</td>\n",
       "      <td>13.10</td>\n",
       "    </tr>\n",
       "    <tr>\n",
       "      <th>...</th>\n",
       "      <td>...</td>\n",
       "      <td>...</td>\n",
       "      <td>...</td>\n",
       "    </tr>\n",
       "    <tr>\n",
       "      <th>Ililsasya43</th>\n",
       "      <td>1</td>\n",
       "      <td>1.020000</td>\n",
       "      <td>1.02</td>\n",
       "    </tr>\n",
       "    <tr>\n",
       "      <th>Irilis75</th>\n",
       "      <td>1</td>\n",
       "      <td>1.020000</td>\n",
       "      <td>1.02</td>\n",
       "    </tr>\n",
       "    <tr>\n",
       "      <th>Aidai61</th>\n",
       "      <td>1</td>\n",
       "      <td>1.010000</td>\n",
       "      <td>1.01</td>\n",
       "    </tr>\n",
       "    <tr>\n",
       "      <th>Chanirra79</th>\n",
       "      <td>1</td>\n",
       "      <td>1.010000</td>\n",
       "      <td>1.01</td>\n",
       "    </tr>\n",
       "    <tr>\n",
       "      <th>Alo38</th>\n",
       "      <td>1</td>\n",
       "      <td>1.000000</td>\n",
       "      <td>1.00</td>\n",
       "    </tr>\n",
       "  </tbody>\n",
       "</table>\n",
       "<p>576 rows × 3 columns</p>\n",
       "</div>"
      ],
      "text/plain": [
       "             Purchase Count  Average Purchase Price  Total Purchase Value\n",
       "Lisosia93                 5                3.792000                 18.96\n",
       "Idastidru52               4                3.862500                 15.45\n",
       "Chamjask73                3                4.610000                 13.83\n",
       "Iral74                    4                3.405000                 13.62\n",
       "Iskadarya95               3                4.366667                 13.10\n",
       "...                     ...                     ...                   ...\n",
       "Ililsasya43               1                1.020000                  1.02\n",
       "Irilis75                  1                1.020000                  1.02\n",
       "Aidai61                   1                1.010000                  1.01\n",
       "Chanirra79                1                1.010000                  1.01\n",
       "Alo38                     1                1.000000                  1.00\n",
       "\n",
       "[576 rows x 3 columns]"
      ]
     },
     "execution_count": 180,
     "metadata": {},
     "output_type": "execute_result"
    }
   ],
   "source": [
    "df_purchase_data = pd.read_csv(file_to_load)\n",
    "df = df_purchase_data.groupby('SN')\n",
    "SN_counts_series = df['Age'].count().rename('Purchase Count')\n",
    "avg_bill_count_series = df['Price'].mean().rename('Average Purchase Price')\n",
    "total_bill_count_series = df['Price'].sum().rename('Total Purchase Value')\n",
    "\n",
    "\n",
    "df = pd.DataFrame()\n",
    "df = pd.concat( [df,SN_counts_series,avg_bill_count_series,total_bill_count_series], axis =1)\n",
    "df = df.sort_values(by=['Total Purchase Value'], ascending=False)\n",
    "df"
   ]
  },
  {
   "cell_type": "code",
   "execution_count": null,
   "metadata": {},
   "outputs": [],
   "source": [
    "format_dict = {'Purchase Count':'{0:,.0f}',\n",
    "               'Purchase Count Unique_SN':'{0:,.0f}',\n",
    "               'Average Purchase Price':'${0:,.2f}',\n",
    "               'Total Purchase Value':'${0:,.2f}',\n",
    "               'Avg Total Purchase per Person':'${0:,.2f}'}\n",
    "df = df.style.format(format_dict)\n",
    "df"
   ]
  },
  {
   "cell_type": "markdown",
   "metadata": {},
   "source": [
    "## Most Popular Items\n",
    "* Retrieve the Item ID, Item Name, and Item Price columns\n",
    "\n",
    "\n",
    "* Group by Item ID and Item Name. Perform calculations to obtain purchase count, average item price, and total purchase value\n",
    "\n",
    "\n",
    "* Create a summary data frame to hold the results\n",
    "\n",
    "\n",
    "* Sort the purchase count column in descending order\n",
    "\n",
    "\n",
    "* Optional: give the displayed data cleaner formatting\n",
    "\n",
    "\n",
    "* Display a preview of the summary data frame"
   ]
  },
  {
   "cell_type": "code",
   "execution_count": 204,
   "metadata": {},
   "outputs": [
    {
     "data": {
      "text/html": [
       "<style  type=\"text/css\" >\n",
       "</style><table id=\"T_a3bb3372_0748_11eb_a111_acde48001122\" ><thead>    <tr>        <th class=\"blank\" ></th>        <th class=\"blank level0\" ></th>        <th class=\"col_heading level0 col0\" >Purchase Count</th>        <th class=\"col_heading level0 col1\" >Average Item Price</th>        <th class=\"col_heading level0 col2\" >Total Purchase Value</th>    </tr>    <tr>        <th class=\"index_name level0\" >Item ID</th>        <th class=\"index_name level1\" >Item Name</th>        <th class=\"blank\" ></th>        <th class=\"blank\" ></th>        <th class=\"blank\" ></th>    </tr></thead><tbody>\n",
       "                <tr>\n",
       "                        <th id=\"T_a3bb3372_0748_11eb_a111_acde48001122level0_row0\" class=\"row_heading level0 row0\" >92</th>\n",
       "                        <th id=\"T_a3bb3372_0748_11eb_a111_acde48001122level1_row0\" class=\"row_heading level1 row0\" >Final Critic</th>\n",
       "                        <td id=\"T_a3bb3372_0748_11eb_a111_acde48001122row0_col0\" class=\"data row0 col0\" >13</td>\n",
       "                        <td id=\"T_a3bb3372_0748_11eb_a111_acde48001122row0_col1\" class=\"data row0 col1\" >$4.61</td>\n",
       "                        <td id=\"T_a3bb3372_0748_11eb_a111_acde48001122row0_col2\" class=\"data row0 col2\" >$59.99</td>\n",
       "            </tr>\n",
       "            <tr>\n",
       "                        <th id=\"T_a3bb3372_0748_11eb_a111_acde48001122level0_row1\" class=\"row_heading level0 row1\" >178</th>\n",
       "                        <th id=\"T_a3bb3372_0748_11eb_a111_acde48001122level1_row1\" class=\"row_heading level1 row1\" >Oathbreaker, Last Hope of the Breaking Storm</th>\n",
       "                        <td id=\"T_a3bb3372_0748_11eb_a111_acde48001122row1_col0\" class=\"data row1 col0\" >12</td>\n",
       "                        <td id=\"T_a3bb3372_0748_11eb_a111_acde48001122row1_col1\" class=\"data row1 col1\" >$4.23</td>\n",
       "                        <td id=\"T_a3bb3372_0748_11eb_a111_acde48001122row1_col2\" class=\"data row1 col2\" >$50.76</td>\n",
       "            </tr>\n",
       "            <tr>\n",
       "                        <th id=\"T_a3bb3372_0748_11eb_a111_acde48001122level0_row2\" class=\"row_heading level0 row2\" >145</th>\n",
       "                        <th id=\"T_a3bb3372_0748_11eb_a111_acde48001122level1_row2\" class=\"row_heading level1 row2\" >Fiery Glass Crusader</th>\n",
       "                        <td id=\"T_a3bb3372_0748_11eb_a111_acde48001122row2_col0\" class=\"data row2 col0\" >9</td>\n",
       "                        <td id=\"T_a3bb3372_0748_11eb_a111_acde48001122row2_col1\" class=\"data row2 col1\" >$4.58</td>\n",
       "                        <td id=\"T_a3bb3372_0748_11eb_a111_acde48001122row2_col2\" class=\"data row2 col2\" >$41.22</td>\n",
       "            </tr>\n",
       "            <tr>\n",
       "                        <th id=\"T_a3bb3372_0748_11eb_a111_acde48001122level0_row3\" class=\"row_heading level0 row3\" >132</th>\n",
       "                        <th id=\"T_a3bb3372_0748_11eb_a111_acde48001122level1_row3\" class=\"row_heading level1 row3\" >Persuasion</th>\n",
       "                        <td id=\"T_a3bb3372_0748_11eb_a111_acde48001122row3_col0\" class=\"data row3 col0\" >9</td>\n",
       "                        <td id=\"T_a3bb3372_0748_11eb_a111_acde48001122row3_col1\" class=\"data row3 col1\" >$3.22</td>\n",
       "                        <td id=\"T_a3bb3372_0748_11eb_a111_acde48001122row3_col2\" class=\"data row3 col2\" >$28.99</td>\n",
       "            </tr>\n",
       "            <tr>\n",
       "                        <th id=\"T_a3bb3372_0748_11eb_a111_acde48001122level0_row4\" class=\"row_heading level0 row4\" >108</th>\n",
       "                        <th id=\"T_a3bb3372_0748_11eb_a111_acde48001122level1_row4\" class=\"row_heading level1 row4\" >Extraction, Quickblade Of Trembling Hands</th>\n",
       "                        <td id=\"T_a3bb3372_0748_11eb_a111_acde48001122row4_col0\" class=\"data row4 col0\" >9</td>\n",
       "                        <td id=\"T_a3bb3372_0748_11eb_a111_acde48001122row4_col1\" class=\"data row4 col1\" >$3.53</td>\n",
       "                        <td id=\"T_a3bb3372_0748_11eb_a111_acde48001122row4_col2\" class=\"data row4 col2\" >$31.77</td>\n",
       "            </tr>\n",
       "    </tbody></table>"
      ],
      "text/plain": [
       "<pandas.io.formats.style.Styler at 0x7fe16c81ceb0>"
      ]
     },
     "execution_count": 204,
     "metadata": {},
     "output_type": "execute_result"
    }
   ],
   "source": [
    "df_purchase_data = pd.read_csv(file_to_load)\n",
    "df_most_pop_items = df_purchase_data.groupby(['Item ID','Item Name'])\n",
    "\n",
    "purch_count = df_most_pop_items['Age'].count().rename('Purchase Count')\n",
    "item_price = df_most_pop_items['Price'].mean().rename('Average Item Price')\n",
    "total_purch_value = df_most_pop_items['Price'].sum().rename('Total Purchase Value')\n",
    "\n",
    "#df = pd.DataFrame()\n",
    "#df = pd.concat( [df,purch_count,item_price,total_purch_value], axis =1) #For some reason the index looks weird when printing otu usingthis method\n",
    "#The above may not work because of constantly differing indices\n",
    "#df = df.sort_values(by=['Purchase Count'], ascending=False)\n",
    "\n",
    "\n",
    "df = pd.DataFrame([purch_count,item_price,total_purch_value]).T.sort_values(by=['Purchase Count'], ascending=False)\n",
    "\n",
    "format_dict = {'Purchase Count':'{0:,.0f}',\n",
    "               'Average Item Price':'${0:,.2f}',\n",
    "               'Total Purchase Value':'${0:,.2f}'}\n",
    "\n",
    "df.head(5).style.format(format_dict)"
   ]
  },
  {
   "cell_type": "markdown",
   "metadata": {},
   "source": [
    "## Most Profitable Items\n",
    "* Sort the above table by total purchase value in descending order\n",
    "\n",
    "\n",
    "* Optional: give the displayed data cleaner formatting\n",
    "\n",
    "\n",
    "* Display a preview of the data frame\n",
    "\n"
   ]
  },
  {
   "cell_type": "code",
   "execution_count": 207,
   "metadata": {},
   "outputs": [
    {
     "data": {
      "text/html": [
       "<style  type=\"text/css\" >\n",
       "</style><table id=\"T_1ca2b5f8_0749_11eb_a111_acde48001122\" ><thead>    <tr>        <th class=\"blank\" ></th>        <th class=\"blank level0\" ></th>        <th class=\"col_heading level0 col0\" >Purchase Count</th>        <th class=\"col_heading level0 col1\" >Average Item Price</th>        <th class=\"col_heading level0 col2\" >Total Purchase Value</th>    </tr>    <tr>        <th class=\"index_name level0\" >Item ID</th>        <th class=\"index_name level1\" >Item Name</th>        <th class=\"blank\" ></th>        <th class=\"blank\" ></th>        <th class=\"blank\" ></th>    </tr></thead><tbody>\n",
       "                <tr>\n",
       "                        <th id=\"T_1ca2b5f8_0749_11eb_a111_acde48001122level0_row0\" class=\"row_heading level0 row0\" >92</th>\n",
       "                        <th id=\"T_1ca2b5f8_0749_11eb_a111_acde48001122level1_row0\" class=\"row_heading level1 row0\" >Final Critic</th>\n",
       "                        <td id=\"T_1ca2b5f8_0749_11eb_a111_acde48001122row0_col0\" class=\"data row0 col0\" >13</td>\n",
       "                        <td id=\"T_1ca2b5f8_0749_11eb_a111_acde48001122row0_col1\" class=\"data row0 col1\" >$4.61</td>\n",
       "                        <td id=\"T_1ca2b5f8_0749_11eb_a111_acde48001122row0_col2\" class=\"data row0 col2\" >$59.99</td>\n",
       "            </tr>\n",
       "            <tr>\n",
       "                        <th id=\"T_1ca2b5f8_0749_11eb_a111_acde48001122level0_row1\" class=\"row_heading level0 row1\" >178</th>\n",
       "                        <th id=\"T_1ca2b5f8_0749_11eb_a111_acde48001122level1_row1\" class=\"row_heading level1 row1\" >Oathbreaker, Last Hope of the Breaking Storm</th>\n",
       "                        <td id=\"T_1ca2b5f8_0749_11eb_a111_acde48001122row1_col0\" class=\"data row1 col0\" >12</td>\n",
       "                        <td id=\"T_1ca2b5f8_0749_11eb_a111_acde48001122row1_col1\" class=\"data row1 col1\" >$4.23</td>\n",
       "                        <td id=\"T_1ca2b5f8_0749_11eb_a111_acde48001122row1_col2\" class=\"data row1 col2\" >$50.76</td>\n",
       "            </tr>\n",
       "            <tr>\n",
       "                        <th id=\"T_1ca2b5f8_0749_11eb_a111_acde48001122level0_row2\" class=\"row_heading level0 row2\" >82</th>\n",
       "                        <th id=\"T_1ca2b5f8_0749_11eb_a111_acde48001122level1_row2\" class=\"row_heading level1 row2\" >Nirvana</th>\n",
       "                        <td id=\"T_1ca2b5f8_0749_11eb_a111_acde48001122row2_col0\" class=\"data row2 col0\" >9</td>\n",
       "                        <td id=\"T_1ca2b5f8_0749_11eb_a111_acde48001122row2_col1\" class=\"data row2 col1\" >$4.90</td>\n",
       "                        <td id=\"T_1ca2b5f8_0749_11eb_a111_acde48001122row2_col2\" class=\"data row2 col2\" >$44.10</td>\n",
       "            </tr>\n",
       "            <tr>\n",
       "                        <th id=\"T_1ca2b5f8_0749_11eb_a111_acde48001122level0_row3\" class=\"row_heading level0 row3\" >145</th>\n",
       "                        <th id=\"T_1ca2b5f8_0749_11eb_a111_acde48001122level1_row3\" class=\"row_heading level1 row3\" >Fiery Glass Crusader</th>\n",
       "                        <td id=\"T_1ca2b5f8_0749_11eb_a111_acde48001122row3_col0\" class=\"data row3 col0\" >9</td>\n",
       "                        <td id=\"T_1ca2b5f8_0749_11eb_a111_acde48001122row3_col1\" class=\"data row3 col1\" >$4.58</td>\n",
       "                        <td id=\"T_1ca2b5f8_0749_11eb_a111_acde48001122row3_col2\" class=\"data row3 col2\" >$41.22</td>\n",
       "            </tr>\n",
       "            <tr>\n",
       "                        <th id=\"T_1ca2b5f8_0749_11eb_a111_acde48001122level0_row4\" class=\"row_heading level0 row4\" >103</th>\n",
       "                        <th id=\"T_1ca2b5f8_0749_11eb_a111_acde48001122level1_row4\" class=\"row_heading level1 row4\" >Singed Scalpel</th>\n",
       "                        <td id=\"T_1ca2b5f8_0749_11eb_a111_acde48001122row4_col0\" class=\"data row4 col0\" >8</td>\n",
       "                        <td id=\"T_1ca2b5f8_0749_11eb_a111_acde48001122row4_col1\" class=\"data row4 col1\" >$4.35</td>\n",
       "                        <td id=\"T_1ca2b5f8_0749_11eb_a111_acde48001122row4_col2\" class=\"data row4 col2\" >$34.80</td>\n",
       "            </tr>\n",
       "    </tbody></table>"
      ],
      "text/plain": [
       "<pandas.io.formats.style.Styler at 0x7fe16e011160>"
      ]
     },
     "execution_count": 207,
     "metadata": {},
     "output_type": "execute_result"
    }
   ],
   "source": [
    "df_most_profitable = df.sort_values('Total Purchase Value', ascending=False)\n",
    "\n",
    "format_dict = {'Purchase Count':'{0:,.0f}',\n",
    "               'Average Item Price':'${0:,.2f}',\n",
    "               'Total Purchase Value':'${0:,.2f}'}\n",
    "\n",
    "df_most_profitable.head(5).style.format(format_dict)"
   ]
  },
  {
   "cell_type": "code",
   "execution_count": null,
   "metadata": {},
   "outputs": [],
   "source": []
  }
 ],
 "metadata": {
  "kernelspec": {
   "display_name": "Python 3",
   "language": "python",
   "name": "python3"
  },
  "language_info": {
   "codemirror_mode": {
    "name": "ipython",
    "version": 3
   },
   "file_extension": ".py",
   "mimetype": "text/x-python",
   "name": "python",
   "nbconvert_exporter": "python",
   "pygments_lexer": "ipython3",
   "version": "3.8.5"
  }
 },
 "nbformat": 4,
 "nbformat_minor": 4
}
